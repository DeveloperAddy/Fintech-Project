{
 "cells": [
  {
   "cell_type": "markdown",
   "metadata": {},
   "source": [
    "## Equal Weights Strategy\n",
    "\n"
   ]
  },
  {
   "cell_type": "code",
   "execution_count": 105,
   "metadata": {},
   "outputs": [],
   "source": [
    "import pandas as pd \n",
    "import numpy as np\n",
    "import yfinance as yf\n"
   ]
  },
  {
   "cell_type": "markdown",
   "metadata": {},
   "source": [
    "## Loading the Stocks lists\n",
    "\n"
   ]
  },
  {
   "cell_type": "code",
   "execution_count": 106,
   "metadata": {},
   "outputs": [
    {
     "data": {
      "text/html": [
       "<div>\n",
       "<style scoped>\n",
       "    .dataframe tbody tr th:only-of-type {\n",
       "        vertical-align: middle;\n",
       "    }\n",
       "\n",
       "    .dataframe tbody tr th {\n",
       "        vertical-align: top;\n",
       "    }\n",
       "\n",
       "    .dataframe thead th {\n",
       "        text-align: right;\n",
       "    }\n",
       "</style>\n",
       "<table border=\"1\" class=\"dataframe\">\n",
       "  <thead>\n",
       "    <tr style=\"text-align: right;\">\n",
       "      <th></th>\n",
       "      <th>Ticker</th>\n",
       "      <th>Company Name</th>\n",
       "    </tr>\n",
       "  </thead>\n",
       "  <tbody>\n",
       "    <tr>\n",
       "      <th>0</th>\n",
       "      <td>RELIANCE.NS</td>\n",
       "      <td>Reliance Industries</td>\n",
       "    </tr>\n",
       "    <tr>\n",
       "      <th>1</th>\n",
       "      <td>TCS.NS</td>\n",
       "      <td>Tata Consultancy Services</td>\n",
       "    </tr>\n",
       "    <tr>\n",
       "      <th>2</th>\n",
       "      <td>HDFCBANK.NS</td>\n",
       "      <td>HDFC Bank</td>\n",
       "    </tr>\n",
       "    <tr>\n",
       "      <th>3</th>\n",
       "      <td>INFY.NS</td>\n",
       "      <td>Infosys</td>\n",
       "    </tr>\n",
       "    <tr>\n",
       "      <th>4</th>\n",
       "      <td>ICICIBANK.NS</td>\n",
       "      <td>ICICI Bank</td>\n",
       "    </tr>\n",
       "  </tbody>\n",
       "</table>\n",
       "</div>"
      ],
      "text/plain": [
       "         Ticker               Company Name\n",
       "0   RELIANCE.NS        Reliance Industries\n",
       "1        TCS.NS  Tata Consultancy Services\n",
       "2   HDFCBANK.NS                  HDFC Bank\n",
       "3       INFY.NS                    Infosys\n",
       "4  ICICIBANK.NS                 ICICI Bank"
      ]
     },
     "execution_count": 106,
     "metadata": {},
     "output_type": "execute_result"
    }
   ],
   "source": [
    "tickers = pd.read_csv(\"top_50_indian_stocks.csv\")\n",
    "tickers.head(5)"
   ]
  },
  {
   "cell_type": "markdown",
   "metadata": {},
   "source": [
    "## Determining the Market cap and Latest price of the tickers\n",
    "\n"
   ]
  },
  {
   "cell_type": "code",
   "execution_count": 107,
   "metadata": {},
   "outputs": [
    {
     "name": "stderr",
     "output_type": "stream",
     "text": [
      "[*********************100%***********************]  50 of 50 completed\n"
     ]
    },
    {
     "name": "stdout",
     "output_type": "stream",
     "text": [
      "           Ticker      Market cap  Latest_price\n",
      "0     RELIANCE.NS  17113071747072   1264.599976\n",
      "1          TCS.NS  14737022648320   4073.149902\n",
      "2     HDFCBANK.NS  12936071348224   1690.949951\n",
      "3         INFY.NS   7668458061824   1851.349976\n",
      "4    ICICIBANK.NS   8865852686336   1255.550049\n",
      "5   HINDUNILVR.NS   5894154747904   2506.050049\n",
      "6         SBIN.NS   6836258865152    766.000000\n",
      "7   BAJFINANCE.NS   4950581575680   8000.100098\n",
      "8   BHARTIARTL.NS   9713349558272   1623.250000\n",
      "9          ITC.NS   5787656650752    462.549988\n",
      "10   KOTAKBANK.NS   3783686356992   1903.099976\n",
      "11    ADANIENT.NS   2622621745152   2270.000000\n",
      "12          LT.NS   4740932960256   3447.500000\n",
      "13     HCLTECH.NS   4591197356032   1694.000000\n",
      "14  ASIANPAINT.NS   2254334328832   2351.149902\n",
      "15    AXISBANK.NS   3091041091584    998.150024\n",
      "16   SUNPHARMA.NS   4180112572416   1742.199951\n",
      "17       WIPRO.NS   3188908883968    304.799988\n",
      "18  ULTRACEMCO.NS   3248850468864  11259.150391\n",
      "19    HDFCLIFE.NS   1346451275776    625.500000\n",
      "20        ONGC.NS   3240056061952    257.549988\n",
      "21        NTPC.NS   3083008475136    317.700012\n",
      "22   POWERGRID.NS   2697567404032    289.850006\n",
      "23  TATAMOTORS.NS   2600944795648    706.549988\n",
      "24  INDUSINDBK.NS    786375114752   1009.400024\n",
      "25  ADANIGREEN.NS   1580937248768    996.500000\n",
      "26       TITAN.NS   3150783709184   3552.000000\n",
      "27    DIVISLAB.NS   1491550732288   5618.549805\n",
      "28       TECHM.NS   1456405479424   1646.400024\n",
      "29      MARUTI.NS   4060986474496  12916.500000\n",
      "30   COALINDIA.NS   2374499827712    385.299988\n",
      "31        BPCL.NS   1109564456960    255.649994\n",
      "32    JSWSTEEL.NS   2279514046464    934.250000\n",
      "33     DRREDDY.NS   1004075220992   1204.949951\n",
      "34  BAJAJFINSV.NS   2798997995520   1754.000000\n",
      "35  ADANIPORTS.NS   2342338953216   1084.099976\n",
      "36       CIPLA.NS   1162560405504   1439.500000\n",
      "37   BRITANNIA.NS   1252838735872   5201.350098\n",
      "38     HAVELLS.NS   1038639431680   1656.199951\n",
      "39    SHREECEM.NS    988512714752  27363.750000\n",
      "40      GRASIM.NS   1639515291648   2440.750000\n",
      "41   TATASTEEL.NS   1658375241728    132.970001\n",
      "42  HEROMOTOCO.NS    880429957120   4402.149902\n",
      "43         M&M.NS   3689577185280   3076.750000\n",
      "44   EICHERMOT.NS   1477612535808   5390.149902\n",
      "45         IOC.NS   1771080777728    125.419998\n",
      "46     SBICARD.NS    785373855744    824.950012\n",
      "47  PIDILITIND.NS   1499107033088   2947.250000\n",
      "48       DMART.NS   2618672545792   4023.750000\n",
      "49     HDFCAMC.NS    835418914816   3908.100098\n"
     ]
    }
   ],
   "source": [
    "def fetch_market_cap(ticker_list):\n",
    "    data = yf.download(ticker_list, period='1d', group_by='ticker', auto_adjust=False)\n",
    "    stocks_data = []\n",
    "    for ticker in ticker_list:\n",
    "        try: # added try-except block to handle potential errors\n",
    "            latest_price = data[ticker]['Close'].iloc[-1]\n",
    "            market_cap = yf.Ticker(ticker).info.get(\"marketCap\", \"Null\")\n",
    "            stocks_data.append({  # Corrected: curly braces {} for dictionary\n",
    "                \"Ticker\": ticker,\n",
    "                \"Market cap\": market_cap,\n",
    "                \"Latest_price\": latest_price\n",
    "            })\n",
    "        except (KeyError, IndexError): # handling the error if ticker is not found in data\n",
    "            print(f\"Error fetching data for {ticker}. Skipping.\")\n",
    "            continue # skipping the iteration if ticker is not found\n",
    "\n",
    "\n",
    "    stocks_df = pd.DataFrame(stocks_data) # Corrected: pass the list of dictionaries\n",
    "    return stocks_df\n",
    "\n",
    "# Assuming 'tickers' is a DataFrame with a \"Ticker\" column\n",
    "# Example: tickers = pd.DataFrame({'Ticker': ['AAPL', 'MSFT', 'GOOG']})  # Example data\n",
    "tickers_list = tickers[\"Ticker\"].values.tolist()\n",
    "df = fetch_market_cap(tickers_list)\n",
    "print(df)\n",
    "# def fetch_market_cap(ticker_list):\n",
    "#     data = yf.download(ticker_list,period='1d',group_by='ticker',auto_adjust=False)\n",
    "#     stocks_data = []\n",
    "#     for ticker in ticker_list:\n",
    "#         latest_price = data[ticker]['Close'].iloc[-1],\n",
    "#         market_cap = yf.Ticker(ticker).info.get(\"marketCap\",\"Null\")\n",
    "#         stocks_data.append {(\n",
    "#             \"Ticker\": ticker,\n",
    "#             \"Market cap\": market_cap,\n",
    "#             \"Latest_price\": latest_price,\n",
    "        \n",
    "# stocks_df = pd.DataFrame(\"stocks_data\")\n",
    "\n",
    "# return stocks_df\n",
    "# )}\n",
    "\n",
    "# tickers_list = tickers[\"Ticker\"].values.tolist()\n",
    "# df = fetch_market_cap(tickers_list)\n",
    "# print(df)\n",
    "    \n",
    "    "
   ]
  },
  {
   "cell_type": "code",
   "execution_count": 108,
   "metadata": {},
   "outputs": [
    {
     "name": "stdout",
     "output_type": "stream",
     "text": [
      "           Ticker      Market cap  Latest_price\n",
      "0     RELIANCE.NS  17113071747072   1264.599976\n",
      "1          TCS.NS  14737022648320   4073.149902\n",
      "2     HDFCBANK.NS  12936071348224   1690.949951\n",
      "8   BHARTIARTL.NS   9713349558272   1623.250000\n",
      "4    ICICIBANK.NS   8865852686336   1255.550049\n",
      "3         INFY.NS   7668458061824   1851.349976\n",
      "6         SBIN.NS   6836258865152    766.000000\n",
      "5   HINDUNILVR.NS   5894154747904   2506.050049\n",
      "9          ITC.NS   5787656650752    462.549988\n",
      "7   BAJFINANCE.NS   4950581575680   8000.100098\n",
      "12          LT.NS   4740932960256   3447.500000\n",
      "13     HCLTECH.NS   4591197356032   1694.000000\n",
      "16   SUNPHARMA.NS   4180112572416   1742.199951\n",
      "29      MARUTI.NS   4060986474496  12916.500000\n",
      "10   KOTAKBANK.NS   3783686356992   1903.099976\n",
      "43         M&M.NS   3689577185280   3076.750000\n",
      "18  ULTRACEMCO.NS   3248850468864  11259.150391\n",
      "20        ONGC.NS   3240056061952    257.549988\n",
      "17       WIPRO.NS   3188908883968    304.799988\n",
      "26       TITAN.NS   3150783709184   3552.000000\n",
      "15    AXISBANK.NS   3091041091584    998.150024\n",
      "21        NTPC.NS   3083008475136    317.700012\n",
      "34  BAJAJFINSV.NS   2798997995520   1754.000000\n",
      "22   POWERGRID.NS   2697567404032    289.850006\n",
      "11    ADANIENT.NS   2622621745152   2270.000000\n",
      "48       DMART.NS   2618672545792   4023.750000\n",
      "23  TATAMOTORS.NS   2600944795648    706.549988\n",
      "30   COALINDIA.NS   2374499827712    385.299988\n",
      "35  ADANIPORTS.NS   2342338953216   1084.099976\n",
      "32    JSWSTEEL.NS   2279514046464    934.250000\n",
      "14  ASIANPAINT.NS   2254334328832   2351.149902\n",
      "45         IOC.NS   1771080777728    125.419998\n",
      "41   TATASTEEL.NS   1658375241728    132.970001\n",
      "40      GRASIM.NS   1639515291648   2440.750000\n",
      "25  ADANIGREEN.NS   1580937248768    996.500000\n",
      "47  PIDILITIND.NS   1499107033088   2947.250000\n",
      "27    DIVISLAB.NS   1491550732288   5618.549805\n",
      "44   EICHERMOT.NS   1477612535808   5390.149902\n",
      "28       TECHM.NS   1456405479424   1646.400024\n",
      "19    HDFCLIFE.NS   1346451275776    625.500000\n",
      "37   BRITANNIA.NS   1252838735872   5201.350098\n",
      "36       CIPLA.NS   1162560405504   1439.500000\n",
      "31        BPCL.NS   1109564456960    255.649994\n",
      "38     HAVELLS.NS   1038639431680   1656.199951\n",
      "33     DRREDDY.NS   1004075220992   1204.949951\n",
      "39    SHREECEM.NS    988512714752  27363.750000\n",
      "42  HEROMOTOCO.NS    880429957120   4402.149902\n",
      "49     HDFCAMC.NS    835418914816   3908.100098\n",
      "24  INDUSINDBK.NS    786375114752   1009.400024\n",
      "46     SBICARD.NS    785373855744    824.950012\n"
     ]
    }
   ],
   "source": [
    "df = df.sort_values(by = \"Market cap\",ascending=False)\n",
    "print(df)"
   ]
  },
  {
   "cell_type": "markdown",
   "metadata": {},
   "source": [
    "## Taking top 10 stocks as per the market cap"
   ]
  },
  {
   "cell_type": "code",
   "execution_count": 109,
   "metadata": {},
   "outputs": [
    {
     "name": "stdout",
     "output_type": "stream",
     "text": [
      "          Ticker      Market cap  Latest_price\n",
      "0    RELIANCE.NS  17113071747072   1264.599976\n",
      "1         TCS.NS  14737022648320   4073.149902\n",
      "2    HDFCBANK.NS  12936071348224   1690.949951\n",
      "3  BHARTIARTL.NS   9713349558272   1623.250000\n",
      "4   ICICIBANK.NS   8865852686336   1255.550049\n",
      "5        INFY.NS   7668458061824   1851.349976\n",
      "6        SBIN.NS   6836258865152    766.000000\n",
      "7  HINDUNILVR.NS   5894154747904   2506.050049\n",
      "8         ITC.NS   5787656650752    462.549988\n",
      "9  BAJFINANCE.NS   4950581575680   8000.100098\n"
     ]
    }
   ],
   "source": [
    "df = df.head(10)\n",
    "df.reset_index(inplace=True,drop=True)\n",
    "print(df)\n"
   ]
  },
  {
   "cell_type": "code",
   "execution_count": 110,
   "metadata": {},
   "outputs": [
    {
     "data": {
      "text/plain": [
       "20000.0"
      ]
     },
     "execution_count": 110,
     "metadata": {},
     "output_type": "execute_result"
    }
   ],
   "source": [
    "portfolio_size = int(input(\"Enter the amount to be invested\"))\n",
    "position_size = portfolio_size/len(df.index)\n",
    "position_size #position size refers to the amount we will invest in each ticker."
   ]
  },
  {
   "cell_type": "code",
   "execution_count": 114,
   "metadata": {},
   "outputs": [
    {
     "name": "stdout",
     "output_type": "stream",
     "text": [
      "          Ticker      Market cap  Latest_price  Number of shares to buy\n",
      "0    RELIANCE.NS  17113071747072   1264.599976                       15\n",
      "1         TCS.NS  14737022648320   4073.149902                        4\n",
      "2    HDFCBANK.NS  12936071348224   1690.949951                       11\n",
      "3  BHARTIARTL.NS   9713349558272   1623.250000                       12\n",
      "4   ICICIBANK.NS   8865852686336   1255.550049                       15\n",
      "5        INFY.NS   7668458061824   1851.349976                       10\n",
      "6        SBIN.NS   6836258865152    766.000000                       26\n",
      "7  HINDUNILVR.NS   5894154747904   2506.050049                        7\n",
      "8         ITC.NS   5787656650752    462.549988                       43\n",
      "9  BAJFINANCE.NS   4950581575680   8000.100098                        2\n"
     ]
    }
   ],
   "source": [
    "import math  \n",
    "df['Number of shares to buy'] = df['Latest_price'].apply(lambda price: math.floor(position_size / price))\n",
    "print(df)"
   ]
  },
  {
   "cell_type": "code",
   "execution_count": null,
   "metadata": {},
   "outputs": [],
   "source": []
  }
 ],
 "metadata": {
  "kernelspec": {
   "display_name": ".venv",
   "language": "python",
   "name": "python3"
  },
  "language_info": {
   "codemirror_mode": {
    "name": "ipython",
    "version": 3
   },
   "file_extension": ".py",
   "mimetype": "text/x-python",
   "name": "python",
   "nbconvert_exporter": "python",
   "pygments_lexer": "ipython3",
   "version": "3.13.0"
  }
 },
 "nbformat": 4,
 "nbformat_minor": 2
}
